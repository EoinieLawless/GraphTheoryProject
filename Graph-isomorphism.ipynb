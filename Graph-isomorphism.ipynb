{
 "cells": [
  {
   "cell_type": "markdown",
   "metadata": {},
   "source": [
    "# Graph Theory - Graph Isomorphism Problem\n",
    "\n",
    "**To first get to Graph Isomorphism, we must learn about the basics of Graph Theory**\n",
    "\n",
    "***"
   ]
  },
  {
   "cell_type": "markdown",
   "metadata": {},
   "source": [
    "**Index Page**\n",
    "\n",
    ">[Graph Theory - Basics](#Graph-Theory)\n",
    "\n",
    ">[Graph Isomorphism](#Graph-Isomorphism)\n",
    "\n",
    ">[Importance of Graph Isomorphism Problem](#Importance-of-Graph-Isomorphism-Problem)\n",
    "\n",
    ">[NP-intermediate](#NP-intermediate)\n",
    "\n",
    ">[subgraph-isomorphism](#subgraph-isomorphism)\n",
    "\n",
    ">[Adjacency Matrices](#Adjacency-Matrices)\n",
    "\n",
    ">[Permutations](#Permutations)\n",
    "\n",
    ">[References](#References)"
   ]
  },
  {
   "cell_type": "markdown",
   "metadata": {},
   "source": [
    "***\n",
    "# Graph Theory\n",
    "**What is Graph theory?**\n",
    "\n",
    "\n",
    "**Graph theory** is a mathematical concept that deals with the study of **graphs**, which are mathematical structures that model relationships between objects. In computing, graph theory is used to represent and analyze data that can be represented as a graph, such as computer networks, social networks, and transportation networks.\n",
    "\n",
    "In simple terms, a graph is a collection of nodes (also called vertices) connected by edges. The edges represent the relationships between the nodes. Graph theory provides a set of tools and techniques to analyze these relationships and extract useful information from the graph.\n",
    "\n",
    "Computing applications of graph theory include network analysis, optimization, routing, clustering, and data visualization. For example, graph theory can be used to find the shortest path between two nodes in a network, to identify clusters of nodes with similar characteristics, or to visualize complex data structures. <a href=\"https://realpython.com/python-sets/\">[1]</a> <a href=\"https://github.com/ianmcloughlin/graphs-groups-and-isomorphisms/raw/main/graphs-groups-and-isomorphisms.pdf\">[13]</a>\n",
    "\n",
    "![Alt text](https://tse3.mm.bing.net/th?id=OIP.2OaCuEDH4PtdWNCV1zCKrQHaFj&pid=Api&P=0)\n",
    "\n",
    "\n",
    "**Vertices** \n",
    "\n",
    "Vertices are points or objects in a graph that are connected by edges or links to form a network or structure. They represent individual components of the graph, and the edges between them represent relationships or connections. Vertices can have properties, such as labels or weights, that provide additional information about the objects they represent. In simpler terms, vertices are just another word for nodes or points in a graph.<a href=\"https://www.baeldung.com/cs/graph-theory-intro\">[3]</a>\n",
    "\n",
    "**Edges**\n",
    "\n",
    "In graph theory, edges are the lines or connections that link the vertices (or nodes) of a graph. They represent the relationships or connections between the objects or concepts that the vertices represent.\n",
    "Edges are a fundamental concept in graph theory, representing the connections or relationships between the individual components (or vertices) of a graph. <a href=\"https://www.baeldung.com/cs/graph-theory-intro\">[3]</a>\n",
    "\n",
    "Edges can be optional, in a manner that a graph without them, can still be defined.\n",
    "\n",
    "We usually indicate with $ V = \\{v_1, v_2, ... , v_n\\} $ the set of vertices, and with $ E = \\{e_1, e_2, ... e_m\\} $ the set of edges. We can then define a graph G as the structure $ G(V, E) $ which models the relationship between the two sets\n",
    "\n",
    "<img src=\"https://www.baeldung.com/wp-content/uploads/sites/4/2020/07/graphs-set.png\" alt=\"drawing\" width=\"400\"/>\n",
    "\n",
    "\n"
   ]
  },
  {
   "cell_type": "markdown",
   "metadata": {},
   "source": [
    "***\n",
    "\n",
    "# Graph Isomorphism\n",
    "\n",
    "**What is Graph Isomorphism?**\n",
    "\n",
    "**The Graph Isomorphism** is a concept in graph theory that refers to the idea of two graphs having the same structure, even if they may look different. In other words, two graphs are isomorphic if they can be transformed into each other by renaming their vertices. <a href=\"https://github.com/ianmcloughlin/graphs-groups-and-isomorphisms/raw/main/graphs-groups-and-isomorphisms.pdf\">[13]</a>\n",
    "\n",
    "![Alt text](https://www.gatevidyalay.com/wp-content/uploads/2018/05/Graph-Isomorphism-Example.png)\n",
    "\n",
    "# Conditions \n",
    " \n",
    "**For any two graphs to be isomorphic, following 4 conditions must be satisfied-**\n",
    "\n",
    "* Number of vertices in both the graphs must be same.\n",
    "\n",
    "* Number of edges in both the graphs must be same.\n",
    "\n",
    "* Degree sequence of both the graphs must be same.\n",
    "\n",
    "* If a cycle of length k is formed by the vertices $ { v1 , v2 , ….. , vk } $ in one graph, then a cycle of same length k must be formed by the vertices $ { f(v1) , f(v2) , ….. , f(vk) } $ in the other graph as well.\n",
    "~ Same number of circuit of particular length <a href=\"https://www.gatevidyalay.com/graph-isomorphism/\">[4]</a>\n",
    "\n",
    "\n",
    "**Graph isomorphism problem**\n",
    "\n",
    "```\n",
    "The graph isomorphism problem is the computational problem of determining whether two finite graphs are isomorphic. The problem is not known to be solvable in polynomial time nor to be NP-complete, and therefore may be in the computational complexity class NP-intermediate. \n",
    "```\n",
    "~ Wikipedia <a href=\"https://en.wikipedia.org/wiki/Graph_isomorphism_problem\">[8]</a>\n",
    "\n",
    "***"
   ]
  },
  {
   "cell_type": "markdown",
   "metadata": {},
   "source": [
    "## Examples of Code to show Isomorphism in Graphs"
   ]
  },
  {
   "cell_type": "code",
   "execution_count": 59,
   "metadata": {},
   "outputs": [],
   "source": [
    "import networkx as nx\n",
    "import matplotlib.pyplot as plt\n",
    "import numpy as np\n",
    "import itertools"
   ]
  },
  {
   "cell_type": "markdown",
   "metadata": {},
   "source": [
    "This the Import tools that we will use for the Code\n",
    "\n",
    ">networkx is a Python package for the creation, manipulation, and study of graphs. <a href =\"https://networkx.org/\">Link</a>\n",
    "\n",
    ">matplotlib.pyplot provides an interface for creating a variety of plots, charts, and graphs. <a href =\"https://uk.mathworks.com/help/matlab/ref/plot.html\">Link</a>\n",
    "\n",
    ">numpy provides tools for working with arrays and matrices, as well as various mathematical functions. <a href =\"https://numpy.org/doc/stable/user/absolute_beginners.html\">Link</a>\n",
    "\n",
    ">itertools provides functions for efficient looping over sequences. In the code below, it is used to generate all possible permutations of nodes in the graph. <a href =\"https://docs.python.org/3/library/itertools.html\">Link</a>"
   ]
  },
  {
   "cell_type": "code",
   "execution_count": 60,
   "metadata": {},
   "outputs": [],
   "source": [
    "# Define the graphs\n",
    "G1 = nx.Graph([(1,2),(2,3),(3,4),(4,1)])\n",
    "G2 = nx.Graph([(1,4),(1,2),(2,3),(3,4)])\n",
    "\n",
    "# Define the adjacency matrices\n",
    "A1 = nx.to_numpy_array(G1)\n",
    "A2 = nx.to_numpy_array(G2)\n",
    "\n",
    "# Define the permutation function\n",
    "def permute_matrix(A, perm):\n",
    "    return A[np.ix_(perm, perm)]\n"
   ]
  },
  {
   "cell_type": "markdown",
   "metadata": {},
   "source": [
    "This code does not use bisection. It uses permutation to check if the two given graphs G1 and G2 are isomorphic or not.\n",
    "\n",
    "The code generates all possible permutations of the nodes of G1. Then, it checks if the permuted adjacency matrix of G1 is equal to the adjacency matrix of G2. \n",
    "\n",
    "If such a permutation exists, it means that the two graphs are isomorphic. Otherwise, the two graphs are not isomorphic."
   ]
  },
  {
   "cell_type": "code",
   "execution_count": 61,
   "metadata": {},
   "outputs": [
    {
     "name": "stdout",
     "output_type": "stream",
     "text": [
      "The graphs are isomorphic!\n"
     ]
    },
    {
     "data": {
      "image/png": "[encoded data removed]",
      "text/plain": [
       "<Figure size 640x480 with 1 Axes>"
      ]
     },
     "metadata": {},
     "output_type": "display_data"
    }
   ],
   "source": [
    "\n",
    "# Check if the two graphs are isomorphic\n",
    "for perm in itertools.permutations(range(len(G1.nodes))):\n",
    "    if np.array_equal(permute_matrix(A1, perm), A2):\n",
    "        print(\"The graphs are isomorphic!\")\n",
    "        # Draw the graphs\n",
    "        pos = nx.spring_layout(G1)\n",
    "        nx.draw(G1, pos=pos, with_labels=True)\n",
    "        nx.draw(G2, pos=pos, with_labels=True)\n",
    "        plt.show()\n",
    "        break\n",
    "else:\n",
    "    print(\"The graphs are not isomorphic.\")\n",
    "    "
   ]
  },
  {
   "cell_type": "markdown",
   "metadata": {},
   "source": [
    "## An Example of a non Isomorphic Graph"
   ]
  },
  {
   "cell_type": "code",
   "execution_count": 62,
   "metadata": {},
   "outputs": [],
   "source": [
    "import networkx as nx\n",
    "import matplotlib.pyplot as plt\n",
    "import numpy as np\n",
    "import itertools\n",
    "\n",
    "# Define the graphs\n",
    "G1 = nx.Graph([(1, 2), (2, 4), (3, 4), (4, 1)])\n",
    "G2 = nx.Graph([(1, 4), (1, 2), (2, 3), (3, 4)])\n",
    "\n",
    "G1.remove_edge(1, 2)\n",
    "\n",
    "# Define the adjacency matrices\n",
    "A1 = nx.to_numpy_array(G1)\n",
    "A2 = nx.to_numpy_array(G2)\n",
    "\n",
    "\n",
    "# Define the permutation function\n",
    "def permute_matrix(A, perm):\n",
    "    return A[np.ix_(perm, perm)]\n",
    "\n"
   ]
  },
  {
   "cell_type": "markdown",
   "metadata": {},
   "source": [
    "**The G1 Graph has one different Vertex (2, 4)**\n",
    "\n",
    "**<.remove_edge> used from Networkx also removes and edge**"
   ]
  },
  {
   "cell_type": "code",
   "execution_count": 63,
   "metadata": {},
   "outputs": [
    {
     "name": "stdout",
     "output_type": "stream",
     "text": [
      "The graphs are not isomorphic.\n"
     ]
    },
    {
     "data": {
      "image/png": "[encoded data removed]",
      "text/plain": [
       "<Figure size 640x480 with 1 Axes>"
      ]
     },
     "metadata": {},
     "output_type": "display_data"
    }
   ],
   "source": [
    "\n",
    "# Check if the two graphs are isomorphic\n",
    "for perm in itertools.permutations(range(len(G1.nodes))):\n",
    "    if np.array_equal(permute_matrix(A1, perm), A2):\n",
    "        print(\"The graphs are isomorphic!\")\n",
    "        # Draw the graphs\n",
    "        pos = nx.spring_layout(G1)\n",
    "        nx.draw(G1, pos=pos, with_labels=True)\n",
    "        nx.draw(G2, pos=pos, with_labels=True)\n",
    "        plt.show()\n",
    "        break\n",
    "else:\n",
    "    print(\"The graphs are not isomorphic.\")\n",
    "    # Draw the graphs\n",
    "    pos = nx.spring_layout(G1)\n",
    "    nx.draw(G1, pos=pos, with_labels=True)\n",
    "    nx.draw(G2, pos=pos, with_labels=True)\n",
    "    plt.show()\n"
   ]
  },
  {
   "cell_type": "markdown",
   "metadata": {},
   "source": [
    "***\n",
    "# Importance of Graph Isomorphism Problem\n",
    "\n",
    "The importance of graph isomorphism lies in its use in multiple Fields such as chemistry, physics, biology, and computer science.\n",
    "\n",
    "**For example:**\n",
    "\n",
    "* In chemistry, graphs are used to model molecules, and graph isomorphism is used to compare different molecular structures to determine if they are the same or different.\n",
    "  \n",
    "![Alt text](https://tse4.mm.bing.net/th?id=OIP.C0qh3yqS90OFG-tdn4qCwQHaFj&pid=Api&P=0)\n",
    "\n",
    "* In physics, graphs are used to model networks and interactions, and graph isomorphism is used to compare different networks to see if they have similar structures."
   ]
  },
  {
   "cell_type": "markdown",
   "metadata": {},
   "source": [
    "#### Use in Computer science\n",
    "\n",
    "One example of the importance of graph isomorphism in computer science is in the design of integrated circuits. Integrated circuits are made up of millions of transistors that are interconnected to perform specific functions. These connections can be represented as a graph, where the transistors are represented as nodes and the connections between them as edges.\n",
    "\n",
    "![Alt text](https://tse3.mm.bing.net/th?id=OIP.RZJ68z1FJgexrpSiZW-NRwAAAA&pid=Api&P=0)\n",
    "\n",
    "During the design phase of an integrated circuit, it is important to ensure that the circuit functions correctly. One way to do this is by simulating the circuit using computer software. However, simulating a large integrated circuit can be computationally expensive, and it may not be possible to simulate the entire circuit at once.\n",
    "\n",
    "To overcome this challenge, the circuit can be divided into smaller subcircuits, and each subcircuit can be simulated independently. However, to simulate a subcircuit, it is necessary to know its structure, and this can be done by comparing the subcircuit with a library of pre-designed subcircuits.\n",
    "\n",
    "In summary, Graph isomorphism is used to compare the subcircuit with the pre-designed subcircuits to find a match. If a match is found, the pre-designed subcircuit can be used to simulate the subcircuit, thereby reducing the computational cost. <a href=\"https://ieeexplore.ieee.org/document/9253076/metrics#metrics\">[5]</a> <a href=\"https://dl.acm.org/doi/pdf/10.1145/157485.164556\">[6]</a>\n",
    "\n"
   ]
  },
  {
   "cell_type": "code",
   "execution_count": 64,
   "metadata": {},
   "outputs": [
    {
     "name": "stdout",
     "output_type": "stream",
     "text": [
      "Match found!\n",
      "The circuit matches its specification.\n",
      "The layouts are not equal.\n"
     ]
    }
   ],
   "source": [
    "import networkx as nx\n",
    "import numpy as np\n",
    "\n",
    "# create the graph representing the circuit\n",
    "\n",
    "circuit = nx.Graph()\n",
    "circuit.add_edges_from([(1,2), (2,3), (3,1), (3,4), (4,5), (5,3)])\n",
    "\n",
    "# create a subgraph representing a subcircuit\n",
    "\n",
    "subcircuit = nx.Graph()\n",
    "subcircuit.add_edges_from([(3,4), (4,5), (5,3)])\n",
    "\n",
    "# load the library of pre-designed subcircuits\n",
    "\n",
    "library = [nx.Graph([(4,5), (5,6), (6,4)]), nx.Graph([(1,2), (2,3), (3,4), (4,5)])]\n",
    "\n",
    "# compare the subcircuit with the pre-designed subcircuits\n",
    "\n",
    "for design in library:\n",
    "    if nx.is_isomorphic(subcircuit, design):\n",
    "        print(\"Match found!\")\n",
    "        # simulate the subcircuit using the pre-designed subcircuit\n",
    "        \n",
    "        break\n",
    "else:\n",
    "    print(\"No match found.\")\n",
    "\n",
    "# compare the circuit with its specification\n",
    "\n",
    "specification = nx.Graph()\n",
    "specification.add_edges_from([(1,2), (2,3), (3,1), (3,4), (4,5), (5,3)])\n",
    "if nx.is_isomorphic(circuit, specification):\n",
    "    print(\"The circuit matches its specification.\")\n",
    "else:\n",
    "    print(\"The circuit does not match its specification.\")\n",
    "\n",
    "# optimize the layout of the circuit\n",
    "\n",
    "layout1 = nx.spring_layout(circuit)\n",
    "layout2 = nx.circular_layout(circuit)\n",
    "if np.array_equal(layout1, layout2):\n",
    "    print(\"The layouts are equal.\")\n",
    "else:\n",
    "    print(\"The layouts are not equal.\")"
   ]
  },
  {
   "cell_type": "markdown",
   "metadata": {},
   "source": [
    "***you do not need the layouts to be isomorphic for comparing the subcircuit with the pre-designed subcircuits to find a match***\n",
    "\n",
    "Graph isomorphism only considers the structural properties of the graph, not its layout. The purpose of optimizing the layout is to make the circuit easier to understand and debug, and to reduce the chances of errors during the manufacturing process."
   ]
  },
  {
   "cell_type": "markdown",
   "metadata": {},
   "source": [
    "***\n",
    "# NP-intermediate \n",
    "\n",
    "Early I mentioned \"NP-complete\"\n",
    "\n",
    "In computer science, there are different levels of difficulty when it comes to solving problems. Some problems are easy and can be solved quickly, while others may take a long time. One way to classify problems is by using the terms P, NP, and NP-complete.\n",
    "\n",
    "* P consists of problems that can be solved in polynomial time, meaning the time it takes to solve the problem increases at most polynomially with the size of the input.  For example, an algorithm that takes n^2 steps to solve a problem with input size n is considered polynomial time, while an algorithm that takes 2^n steps to solve the same problem is considered exponential time and much less efficient. \n",
    "\n",
    "* NP consists of problems that can be verified in polynomial time, meaning given a solution, it can be checked in polynomial time whether the solution is correct or not.\n",
    "\n",
    "* NP-complete is a class of problems that are believed to be the hardest problems in NP. These problems are believed to be intractable, meaning there is no polynomial time algorithm known that can solve them.\n",
    "  \n",
    "NP-intermediate refers to a class of computational problems that are believed to be neither in P (polynomial) or in NP-complete (nondeterministic polynomial), but somewhere in between. One such problem is the **Graph isomorphism problem**, which is said to be NP-intermediate.\n",
    "\n",
    "The significance of this result is that it suggests that the graph isomorphism problem is harder than the problems in P, but not as hard as the problems in NP-complete. This result has important implications in graph theory, computer science, and mathematics.\n",
    "\n",
    "![Alt text](https://tse4.mm.bing.net/th?id=OIP.Miii7ohqA2wjfl4VA5-SLAHaFj&pid=Api&P=0)\n",
    "\n",
    "In the context of graph isomorphism, the NP-intermediate result means that the problem is difficult but not necessarily polynomial. It suggests that there may be algorithms that can solve the graph isomorphism problem for certain graphs, while for other graphs, the problem may remain polynomial.\n",
    "\n",
    "This result also implies that the graph isomorphism problem is not as easy to solve as some other graph problems that are known to be in P, such as finding a minimum spanning tree or a shortest path. However, it is not as hard as some other graph problems that are known to be NP-complete, such as the traveling salesman problem or the vertex cover problem.\n",
    "\n",
    "Overall, the NP-intermediate result for graph isomorphism has important implications for the study of computational complexity, and it provides insight into the difficulty of solving graph isomorphism. <a href=\"https://en.wikipedia.org/wiki/NP-intermediate\">[7]</a> <a href=\"https://www.mathsisfun.com/sets/np-complete.html#:~:text=So%2C%20the%20easy%20problems%20are%20in%20%22P%22%20%28and,NP-Complete%3A%20can%20be%20solved%20in%20P%20olynomial%20time\">[14]</a> <a href=\"https://www.geeksforgeeks.org/proof-that-independent-set-in-graph-theory-is-np-complete/\">[9]</a>"
   ]
  },
  {
   "cell_type": "markdown",
   "metadata": {},
   "source": [
    "***\n",
    "#  subgraph isomorphism\n",
    "\n",
    "A subgraph is a graph fully contained in another graph, it is like a small graph, which is part of a bigger graph. \n",
    "\n",
    "We say G′ = (N′ , E ′ ) is a subgraph of G = (N, E)\n",
    "\n",
    "(') is used to distinguish this new graph from the original graph G = (N, E)\n",
    "\n",
    " This is when N′ is a subset of N, and E′ only contains edges containing elements of N′ <a href=\"https://github.com/ianmcloughlin/graphs-groups-and-isomorphisms/raw/main/graphs-groups-and-isomorphisms.pdf\">[10]</a> <a href=\"https://github.com/ianmcloughlin/graphs-groups-and-isomorphisms/raw/main/graphs-groups-and-isomorphisms.pdf\">[13]</a>\n",
    "\n",
    "![Alt text](https://tse1.mm.bing.net/th?id=OIP.MAi2XEvbG27G__rVkU2X0gHaEj&pid=Api&P=0)\n"
   ]
  },
  {
   "cell_type": "code",
   "execution_count": 65,
   "metadata": {},
   "outputs": [
    {
     "data": {
      "image/png": "[encoded data removed]",
      "text/plain": [
       "<Figure size 800x400 with 2 Axes>"
      ]
     },
     "metadata": {},
     "output_type": "display_data"
    }
   ],
   "source": [
    "import networkx as nx\n",
    "import matplotlib.pyplot as plt\n",
    "\n",
    "# To create a new graph\n",
    "G = nx.Graph()\n",
    "\n",
    "# add some nodes and edges to the graph\n",
    "G.add_nodes_from([1, 2, 3, 4])\n",
    "G.add_edges_from([(1, 2), (2, 3), (3, 4), (4, 1)])\n",
    "\n",
    "# create a subgraph of the original graph\n",
    "sub_nodes = [1, 2]\n",
    "sub_edges = [(1, 2)]\n",
    "G_sub = nx.Graph()\n",
    "G_sub.add_nodes_from(sub_nodes)\n",
    "G_sub.add_edges_from(sub_edges)\n",
    "\n",
    "# draw the original graph and the subgraph using matplotlib\n",
    "import matplotlib.pyplot as plt\n",
    "\n",
    "fig, ax = plt.subplots(nrows=1, ncols=2, figsize=(8, 4))\n",
    "\n",
    "nx.draw_networkx(G, ax=ax[0])\n",
    "ax[0].set_title('Original Graph')\n",
    "\n",
    "nx.draw_networkx(G_sub, ax=ax[1])\n",
    "ax[1].set_title('Subgraph')\n",
    "\n",
    "plt.show()"
   ]
  },
  {
   "cell_type": "markdown",
   "metadata": {},
   "source": [
    "**The Subgraph Isomorphism Problem** is a problem that asks whether a given graph G1 contains a subgraph that is isomorphic to another given graph G2.\n",
    "\n",
    "In other words, it seeks to determine whether a pattern graph G2 is contained as a subgraph within a larger target graph G1. <a href=\"https://en.wikipedia.org/wiki/Induced_subgraph_isomorphism_problem\">[16]</a>"
   ]
  },
  {
   "cell_type": "markdown",
   "metadata": {},
   "source": [
    "***\n",
    "# Adjacency Matrices"
   ]
  },
  {
   "cell_type": "markdown",
   "metadata": {},
   "source": [
    "A common way to represent a graph is with an adjacency matrix.\n",
    "\n",
    "Take for example Two Graphs G1 and G2 \n",
    "\n",
    "To create the adjacency matrix, First we need to determine the size of the matrix, which is equal to the number of nodes in the graph.\n",
    "\n",
    "Then we initialize the matrix A with zeros. Then for each edge in the graph, we set the corresponding entry in the adjacency matrix to 1.\n",
    "\n",
    "If there is no edge between nodes, we set it to 0. <a href=\"https://en.wikipedia.org/wiki/Adjacency_matrix#:~:text=In%20graph%20theory%20and%20computer%20science%2C%20an%20adjacency,is%20a%20%280%2C1%29-matrix%20with%20zeros%20on%20its%20diagonal\">[18]</a> <a href=\"https://mathworld.wolfram.com/AdjacencyMatrix.html\">[19]</a> <a href=\"https://github.com/ianmcloughlin/graphs-groups-and-isomorphisms/raw/main/graphs-groups-and-isomorphisms.pdf\">[13]</a>"
   ]
  },
  {
   "cell_type": "markdown",
   "metadata": {},
   "source": [
    "### Example Of code showcasing the creation of Adjacency matrices: "
   ]
  },
  {
   "cell_type": "code",
   "execution_count": 66,
   "metadata": {},
   "outputs": [
    {
     "name": "stdout",
     "output_type": "stream",
     "text": [
      "Adjacency matrix of G1:\n",
      "[[0. 1. 0. 1.]\n",
      " [1. 0. 1. 1.]\n",
      " [0. 1. 0. 1.]\n",
      " [1. 1. 1. 0.]]\n",
      "Adjacency matrix of G2:\n",
      "[[0. 1. 0. 1.]\n",
      " [1. 0. 1. 0.]\n",
      " [0. 1. 0. 1.]\n",
      " [1. 0. 1. 0.]]\n"
     ]
    }
   ],
   "source": [
    "# Define the graphs\n",
    "G1 = {1: [2, 4], 2: [1, 3, 4], 3: [2, 4], 4: [1, 2, 3]}\n",
    "G2 = {1: [2, 4], 2: [1, 3], 3: [2, 4], 4: [1, 3]}\n",
    "\n",
    "# Define the size of the matrices\n",
    "n1 = len(G1)\n",
    "n2 = len(G2)\n",
    "\n",
    "# Initialize the matrices with zeros\n",
    "A1 = np.zeros((n1, n1))\n",
    "A2 = np.zeros((n2, n2))\n",
    "\n",
    "# Fill the matrices with the adjacency information\n",
    "for i in range(1, n1+1):\n",
    "    for j in G1[i]:\n",
    "        A1[i-1, j-1] = 1\n",
    "\n",
    "for i in range(1, n2+1):\n",
    "    for j in G2[i]:\n",
    "        A2[i-1, j-1] = 1\n",
    "\n",
    "print(\"Adjacency matrix of G1:\")\n",
    "print(A1)\n",
    "print(\"Adjacency matrix of G2:\")\n",
    "print(A2)"
   ]
  },
  {
   "cell_type": "markdown",
   "metadata": {},
   "source": [
    "Then to use this to see if Isomorphic or not "
   ]
  },
  {
   "cell_type": "code",
   "execution_count": 67,
   "metadata": {},
   "outputs": [
    {
     "name": "stdout",
     "output_type": "stream",
     "text": [
      "The graphs are not isomorphic.\n"
     ]
    }
   ],
   "source": [
    "# Define the permutation function\n",
    "def permute_matrix(A, perm):\n",
    "    return A[np.ix_(perm, perm)]\n",
    "\n",
    "# Check if the two graphs are isomorphic\n",
    "for perm in itertools.permutations(range(len(A1))):\n",
    "    if np.array_equal(permute_matrix(A1, perm), A2):\n",
    "        print(\"The graphs are isomorphic!\")\n",
    "        break\n",
    "else:\n",
    "    print(\"The graphs are not isomorphic.\")"
   ]
  },
  {
   "cell_type": "markdown",
   "metadata": {},
   "source": [
    "***\n",
    "\n",
    "# Permutations\n",
    "\n",
    "In terms of maths, permutations are a way of rearranging a set of objects in a specific order or sequence. More over, a permutation is a one-to-one and onto mapping of a set to itself, which rearranges the elements of the set in a particular way.\n",
    "\n",
    "For example, let's consider the set {1, 2, 3}. There are six possible permutations of this set, which are:\n",
    "\n",
    "* (1,2,3)\n",
    "\n",
    "* (1,3,2)\n",
    "\n",
    "* (2,1,3)\n",
    "\n",
    "* (2,3,1)\n",
    "\n",
    "* (3,1,2)\n",
    "\n",
    "* (3,2,1)\n",
    "\n",
    "**Each of these permutations represents a different way of arranging the elements of the set {1, 2, 3}. Note that each permutation contains all three elements of the set and that each element appears exactly once.**\n",
    "\n",
    "### <u>In terms of Graph theory, Permutations are used for Algorithms for solving the graph isomorphism problem. </u>\n",
    "\n",
    "I used Permutations In the first Example of code to test for Isomorphism, It computes all possible permuatations of the nodes and then creates the adjacency matrixes, then looks for matching matrixes.\n",
    "\n",
    "One other way to testing whether two graphs like G1 and G2 are isomorphic is to find a **bijection** between their vertex sets that preserves the structure of the graphs.\n",
    "Permutations are often used to generate bisections of a graph.\n",
    "\n",
    ">**bijection**\n",
    "\n",
    ">A bĳection can only exist between sets of equal size, so the two\n",
    "graphs must have the same number of nodes.\n",
    "> A bijection is a one-to-one correspondence between the vertices of two graphs such that corresponding vertices are connected by the same set of edges in both graphs.\n",
    ">  <a href=\"https://math.libretexts.org/Bookshelves/Combinatorics_and_Discrete_Mathematics/Combinatorics_(Morris)/03%3A_Graph_Theory/11%3A_Basics_of_Graph_Theory/11.04%3A_Graph_Isomorphisms#:~:text=Two%20graphs%20G1%20%3D%20%28V1%2C%20E1%29%20and%20G2,%CF%86%20an%20isomorphism%20from%20G1%20to%20G2.%20Notation \">[17]</a> <a href=\"https://github.com/ianmcloughlin/graphs-groups-and-isomorphisms/raw/main/graphs-groups-and-isomorphisms.pdf\">[13]</a>\n",
    ">\n",
    "> \n",
    "\n",
    "![Alt text](https://tse2.mm.bing.net/th?id=OIP.xilnjYj4F1BzGddEedBfuAHaFj&pid=Api&P=0)\n",
    "\n",
    "***"
   ]
  },
  {
   "cell_type": "markdown",
   "metadata": {},
   "source": [
    "# References \n",
    "\n",
    "**Links**\n",
    "\n",
    "https://realpython.com/python-sets/ <a>[1]</a>\n",
    "\n",
    "https://www.codedrome.com/graph-theory-in-python/  <a>[2]</a>\n",
    "\n",
    "https://www.baeldung.com/cs/graph-theory-intro  <a>[3]</a>\n",
    "\n",
    "https://www.gatevidyalay.com/graph-isomorphism/  <a>[4]</a>\n",
    "\n",
    "https://ieeexplore.ieee.org/document/9253076/metrics#metrics - Have to sign into Atu account to access  <a>[5]</a>\n",
    "\n",
    "~ J. Obert, S. Turner and J. Hamlet, \"Graph Theory and IC Component Design Analysis,\" 2020 Third International Conference on Artificial Intelligence for Industries (AI4I), Irvine, CA, USA, 2020, pp. 64-65, doi: 10.1109/AI4I49448.2020.00021.\n",
    "\n",
    "https://dl.acm.org/doi/pdf/10.1145/157485.164556 <a>[6]</a>\n",
    "\n",
    "https://en.wikipedia.org/wiki/NP-intermediate  <a>[7]</a>\n",
    "\n",
    "https://en.wikipedia.org/wiki/Graph_isomorphism_problem  <a>[8]</a>\n",
    "\n",
    "https://www.geeksforgeeks.org/proof-that-independent-set-in-graph-theory-is-np-complete/  <a>[9]</a>\n",
    "\n",
    "https://www.geeksforgeeks.org/proof-that-subgraph-isomorphism-problem-is-np-complete/ <a>[10]</a>\n",
    "\n",
    "https://www.geeksforgeeks.org/mathematics-graph-isomorphisms-connectivity/ <a>[11]</a>\n",
    "\n",
    "https://www.slideshare.net/KornepatiSeshagiriRao/np-complete-problems-in-graph-theory page 7  <a>[12]</a>\n",
    "\n",
    "https://github.com/ianmcloughlin/graphs-groups-and-isomorphisms/raw/main/graphs-groups-and-isomorphisms.pdf  <a>[13]</a>\n",
    "\n",
    "https://www.mathsisfun.com/sets/np-complete.html#:~:text=So%2C%20the%20easy%20problems%20are%20in%20%22P%22%20%28and,NP-Complete%3A%20can%20be%20solved%20in%20P%20olynomial%20time <a>[14]</a>\n",
    "\n",
    "https://mathworld.wolfram.com/GraphAutomorphism.html#:~:text=An%20automorphism%20of%20a%20graph%20is%20a%20graph,permutation%20group%20known%20as%20the%20graph%27s%20automorphism%20group. <a>[15]</a>\n",
    "\n",
    "https://en.wikipedia.org/wiki/Induced_subgraph_isomorphism_problem<a>[16]</a>\n",
    "\n",
    "https://math.libretexts.org/Bookshelves/Combinatorics_and_Discrete_Mathematics/Combinatorics_(Morris)/03%3A_Graph_Theory/11%3A_Basics_of_Graph_Theory/11.04%3A_Graph_Isomorphisms#:~:text=Two%20graphs%20G1%20%3D%20%28V1%2C%20E1%29%20and%20G2,%CF%86%20an%20isomorphism%20from%20G1%20to%20G2.%20Notation <a>[17]</a>\n",
    "\n",
    "https://en.wikipedia.org/wiki/Adjacency_matrix#:~:text=In%20graph%20theory%20and%20computer%20science%2C%20an%20adjacency,is%20a%20%280%2C1%29-matrix%20with%20zeros%20on%20its%20diagonal.\n",
    "\n",
    "https://mathworld.wolfram.com/AdjacencyMatrix.html"
   ]
  }
 ],
 "metadata": {
  "kernelspec": {
   "display_name": "Python 3 (ipykernel)",
   "language": "python",
   "name": "python3"
  },
  "language_info": {
   "codemirror_mode": {
    "name": "ipython",
    "version": 3
   },
   "file_extension": ".py",
   "mimetype": "text/x-python",
   "name": "python",
   "nbconvert_exporter": "python",
   "pygments_lexer": "ipython3",
   "version": "3.9.13"
  }
 },
 "nbformat": 4,
 "nbformat_minor": 2
}
