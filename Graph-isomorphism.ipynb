{
 "cells": [
  {
   "cell_type": "markdown",
   "metadata": {},
   "source": [
    "# Graph Isomorphism\n",
    "\n",
    "**What is Graph Isomorphism?**\n",
    "\n",
    "**The Graph Isomorphism** is a phenomenon of existing the same graph in more than one forms.\n",
    "Such graphs are called as Isomorphic graphs.\n",
    "\n",
    "![Alt text](https://www.gatevidyalay.com/wp-content/uploads/2018/05/Graph-Isomorphism-Example.png)\n",
    "\n",
    "Here,\n",
    "* The same graph exists in multiple forms.\n",
    "* Therefore, they are Isomorphic graphs.\n",
    "\n",
    "# Conditions \n",
    " \n",
    "**For any two graphs to be isomorphic, following 4 conditions must be satisfied-**\n",
    "\n",
    "* Number of vertices in both the graphs must be same.\n",
    "\n",
    "* Number of edges in both the graphs must be same.\n",
    "\n",
    "* Degree sequence of both the graphs must be same.\n",
    "\n",
    "* If a cycle of length k is formed by the vertices { v1 , v2 , ….. , vk } in one graph, then a cycle of same length k must be formed by the vertices { f(v1) , f(v2) , ….. , f(vk) } in the other graph as well.\n",
    "\n",
    "* The above 4 conditions are just the necessary conditions for any two graphs to be isomorphic.\n",
    "\n",
    "**Graph isomorphism problem**\n",
    "\n",
    "```\n",
    "The graph isomorphism problem is the computational problem of determining whether two finite graphs are isomorphic. The problem is not known to be solvable in polynomial time nor to be NP-complete, and therefore may be in the computational complexity class NP-intermediate. \n",
    "```\n",
    "~ Wikipedia\n",
    "\n",
    "[Link to reference page](https://www.gatevidyalay.com/graph-isomorphism/)"
   ]
  }
 ],
 "metadata": {
  "kernelspec": {
   "display_name": "Python 3 (ipykernel)",
   "language": "python",
   "name": "python3"
  },
  "language_info": {
   "codemirror_mode": {
    "name": "ipython",
    "version": 3
   },
   "file_extension": ".py",
   "mimetype": "text/x-python",
   "name": "python",
   "nbconvert_exporter": "python",
   "pygments_lexer": "ipython3",
   "version": "3.9.13"
  }
 },
 "nbformat": 4,
 "nbformat_minor": 2
}
