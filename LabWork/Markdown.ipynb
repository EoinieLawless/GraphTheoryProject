{
 "cells": [
  {
   "cell_type": "markdown",
   "metadata": {},
   "source": [
    "Example Of jupyter NoteBook\n",
    "-And Tools how to use it "
   ]
  },
  {
   "cell_type": "markdown",
   "metadata": {},
   "source": [
    "Headings\n",
    "Use the number sign (#) followed by a blank space for notebook titles and section headings:\n",
    "# for titles\n",
    "## for major headings\n",
    "### for subheadings\n",
    "#### for 4th level subheadings"
   ]
  },
  {
   "cell_type": "markdown",
   "metadata": {},
   "source": [
    "Emphasis\n",
    "Use the following code to emphasize text:\n",
    "Bold text: $ __string__ or **string** $\n",
    "Italic text:$  _string_ or *string* $"
   ]
  },
  {
   "cell_type": "markdown",
   "metadata": {},
   "source": [
    "Mathematical symbols\n",
    "Surround mathematical symbols with a dollar sign, for example:\n",
    "$ mathematical symbols $"
   ]
  },
  {
   "cell_type": "markdown",
   "metadata": {},
   "source": [
    "Monospace font\n",
    "Surround text with a grave accent $ (`) $, also called a back single quotation mark, for example:\n",
    "`string`"
   ]
  },
  {
   "cell_type": "markdown",
   "metadata": {},
   "source": [
    "Line breaks\n",
    "Sometimes markdown doesn’t make line breaks when you want them. To force a linebreak, use the following code: $ <br> $\n",
    "<br>"
   ]
  },
  {
   "cell_type": "markdown",
   "metadata": {},
   "source": [
    "Indenting\n",
    "Use the greater than sign (>) followed by a space, for example:\n",
    "> Text that will be indented when the Markdown is rendered."
   ]
  },
  {
   "cell_type": "markdown",
   "metadata": {},
   "source": [
    "Bullet Points\n",
    "To use bullet points type (-)\n",
    "- Bullet point"
   ]
  },
  {
   "cell_type": "markdown",
   "metadata": {},
   "source": [
    "Numbered Lists\n",
    "Enter 1. followed by a list\n",
    "\n",
    "1. Numbered item\n",
    "1. Numbered item"
   ]
  },
  {
   "cell_type": "markdown",
   "metadata": {},
   "source": [
    "Horizontal lines\n",
    "\n",
    "***"
   ]
  },
  {
   "cell_type": "markdown",
   "metadata": {},
   "source": [
    "Internal links\n",
    "\n",
    "[Section title](#section-title)"
   ]
  }
 ],
 "metadata": {
  "kernelspec": {
   "display_name": "Python 3 (ipykernel)",
   "language": "python",
   "name": "python3"
  },
  "language_info": {
   "codemirror_mode": {
    "name": "ipython",
    "version": 3
   },
   "file_extension": ".py",
   "mimetype": "text/x-python",
   "name": "python",
   "nbconvert_exporter": "python",
   "pygments_lexer": "ipython3",
   "version": "3.9.13"
  }
 },
 "nbformat": 4,
 "nbformat_minor": 2
}
