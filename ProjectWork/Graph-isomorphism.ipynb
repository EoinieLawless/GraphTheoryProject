{
 "cells": [
  {
   "cell_type": "markdown",
   "metadata": {},
   "source": [
    "# Graph Theory - Graph Isomorphism Problem\n",
    "\n",
    "**To first get to Graph Isomorphism, we must learn about the basics of Graph Theory**\n",
    "\n",
    "***"
   ]
  },
  {
   "cell_type": "markdown",
   "metadata": {},
   "source": [
    "**Index Page**\n",
    "\n",
    ">[Graph Theory - Basics](#Graph-Theory)\n",
    "\n",
    ">[Graph Isomorphism](#Graph-Isomorphism)\n",
    "\n",
    ">[Importance of Graph Isomorphism Problem](#Importance-of-Graph-Isomorphism-Problem)\n",
    "\n",
    ">[NP-intermediate](#NP-intermediate )\n",
    "\n",
    ">[automorphism](#automorphism)\n",
    "\n",
    ">[subgraph-isomorphism](#subgraph-isomorphism)\n",
    "\n",
    ">[Travelling Salesman Problem](#Travelling-Salesman-Problem)\n",
    "\n",
    ">[References](#References)"
   ]
  },
  {
   "cell_type": "markdown",
   "metadata": {},
   "source": [
    "***\n",
    "# Graph Theory\n",
    "**What is Graph theory?**\n",
    "\n",
    "\n",
    "**Graph theory** is a mathematical concept that deals with the study of **graphs**, which are mathematical structures that model relationships between objects. In computing, graph theory is used to represent and analyze data that can be represented as a graph, such as computer networks, social networks, and transportation networks.\n",
    "\n",
    "In simple terms, a graph is a collection of nodes (also called vertices) connected by edges. The edges represent the relationships between the nodes. Graph theory provides a set of tools and techniques to analyze these relationships and extract useful information from the graph.\n",
    "\n",
    "Computing applications of graph theory include network analysis, optimization, routing, clustering, and data visualization. For example, graph theory can be used to find the shortest path between two nodes in a network, to identify clusters of nodes with similar characteristics, or to visualize complex data structures. <a href=\"https://realpython.com/python-sets/\">1</a>\n",
    "\n",
    "![Alt text](https://tse3.mm.bing.net/th?id=OIP.2OaCuEDH4PtdWNCV1zCKrQHaFj&pid=Api&P=0)\n",
    "\n",
    "\n",
    "**Vertices** \n",
    "\n",
    "Vertices are points or objects in a graph that are connected by edges or links to form a network or structure. They represent individual components of the graph, and the edges between them represent relationships or connections. Vertices can have properties, such as labels or weights, that provide additional information about the objects they represent. In simpler terms, vertices are just another word for nodes or points in a graph.\n",
    "\n",
    "**Edges**\n",
    "\n",
    "In graph theory, edges are the lines or connections that link the vertices (or nodes) of a graph. They represent the relationships or connections between the objects or concepts that the vertices represent.\n",
    "Edges are a fundamental concept in graph theory, representing the connections or relationships between the individual components (or vertices) of a graph.\n",
    "\n",
    "Edges can be optional, in a manner that a graph without them, can still be defined.\n",
    "\n",
    "We usually indicate with $ V = \\{v_1, v_2, ... , v_n\\} $ the set of vertices, and with $ E = \\{e_1, e_2, ... e_m\\} $ the set of edges. We can then define a graph G as the structure $ G(V, E) $ which models the relationship between the two sets\n",
    "\n",
    "<img src=\"https://www.baeldung.com/wp-content/uploads/sites/4/2020/07/graphs-set.png\" alt=\"drawing\" width=\"400\"/>\n",
    "\n",
    "\n"
   ]
  },
  {
   "cell_type": "markdown",
   "metadata": {},
   "source": [
    "***\n",
    "\n",
    "# Graph Isomorphism\n",
    "\n",
    "**What is Graph Isomorphism?**\n",
    "\n",
    "**The Graph Isomorphism** is a concept in graph theory that refers to the idea of two graphs having the same structure, even if they may look different. In other words, two graphs are isomorphic if they can be transformed into each other by renaming their vertices.\n",
    "\n",
    "![Alt text](https://www.gatevidyalay.com/wp-content/uploads/2018/05/Graph-Isomorphism-Example.png)\n",
    "\n",
    "# Conditions \n",
    " \n",
    "**For any two graphs to be isomorphic, following 4 conditions must be satisfied-**\n",
    "\n",
    "* Number of vertices in both the graphs must be same.\n",
    "\n",
    "* Number of edges in both the graphs must be same.\n",
    "\n",
    "* Degree sequence of both the graphs must be same.\n",
    "\n",
    "* If a cycle of length k is formed by the vertices $ { v1 , v2 , ….. , vk } $ in one graph, then a cycle of same length k must be formed by the vertices $ { f(v1) , f(v2) , ….. , f(vk) } $ in the other graph as well.\n",
    "~ Same number of circuit of particular length\n",
    "\n",
    "\n",
    "**Graph isomorphism problem**\n",
    "\n",
    "```\n",
    "The graph isomorphism problem is the computational problem of determining whether two finite graphs are isomorphic. The problem is not known to be solvable in polynomial time nor to be NP-complete, and therefore may be in the computational complexity class NP-intermediate. \n",
    "```\n",
    "~ Wikipedia\n",
    "\n",
    "[Link to reference page](https://www.gatevidyalay.com/graph-isomorphism/)\n",
    "\n",
    "***"
   ]
  },
  {
   "cell_type": "code",
   "execution_count": 4,
   "metadata": {},
   "outputs": [
    {
     "name": "stdout",
     "output_type": "stream",
     "text": [
      "The graphs are isomorphic!\n"
     ]
    },
    {
     "data": {
      "image/png": "[encoded data removed]",
      "text/plain": [
       "<Figure size 640x480 with 1 Axes>"
      ]
     },
     "metadata": {},
     "output_type": "display_data"
    }
   ],
   "source": [
    "import networkx as nx\n",
    "import matplotlib.pyplot as plt\n",
    "import numpy as np\n",
    "import itertools\n",
    "\n",
    "# Define the graphs\n",
    "G1 = nx.Graph([(1,2),(2,3),(3,4),(4,1)])\n",
    "G2 = nx.Graph([(1,4),(1,2),(2,3),(3,4)])\n",
    "\n",
    "# Define the adjacency matrices\n",
    "A1 = nx.to_numpy_array(G1)\n",
    "A2 = nx.to_numpy_array(G2)\n",
    "\n",
    "# Define the permutation function\n",
    "def permute_matrix(A, perm):\n",
    "    return A[np.ix_(perm, perm)]\n",
    "\n",
    "# Check if the two graphs are isomorphic\n",
    "for perm in itertools.permutations(range(len(G1.nodes))):\n",
    "    if np.array_equal(permute_matrix(A1, perm), A2):\n",
    "        print(\"The graphs are isomorphic!\")\n",
    "        # Draw the graphs\n",
    "        pos = nx.spring_layout(G1)\n",
    "        nx.draw(G1, pos=pos, with_labels=True)\n",
    "        nx.draw(G2, pos=pos, with_labels=True)\n",
    "        plt.show()\n",
    "        break\n",
    "else:\n",
    "    print(\"The graphs are not isomorphic.\")\n",
    "    "
   ]
  },
  {
   "cell_type": "markdown",
   "metadata": {},
   "source": [
    "### Exapmle of a non Isomorphic Graph\n",
    "\n",
    "**The G1 Graph has one different Vertex (2, 4)**\n",
    "\n",
    "**<.remove_edge> used from Networkx also removes and edge**"
   ]
  },
  {
   "cell_type": "code",
   "execution_count": 5,
   "metadata": {},
   "outputs": [
    {
     "name": "stdout",
     "output_type": "stream",
     "text": [
      "The graphs are not isomorphic.\n"
     ]
    },
    {
     "data": {
      "image/png": "[encoded data removed]",
      "text/plain": [
       "<Figure size 640x480 with 1 Axes>"
      ]
     },
     "metadata": {},
     "output_type": "display_data"
    }
   ],
   "source": [
    "import networkx as nx\n",
    "import matplotlib.pyplot as plt\n",
    "import numpy as np\n",
    "import itertools\n",
    "\n",
    "# Define the graphs\n",
    "G1 = nx.Graph([(1, 2), (2, 4), (3, 4), (4, 1)])\n",
    "G2 = nx.Graph([(1, 4), (1, 2), (2, 3), (3, 4)])\n",
    "\n",
    "G1.remove_edge(1, 2)\n",
    "\n",
    "# Define the adjacency matrices\n",
    "A1 = nx.to_numpy_array(G1)\n",
    "A2 = nx.to_numpy_array(G2)\n",
    "\n",
    "\n",
    "# Define the permutation function\n",
    "def permute_matrix(A, perm):\n",
    "    return A[np.ix_(perm, perm)]\n",
    "\n",
    "\n",
    "# Check if the two graphs are isomorphic\n",
    "for perm in itertools.permutations(range(len(G1.nodes))):\n",
    "    if np.array_equal(permute_matrix(A1, perm), A2):\n",
    "        print(\"The graphs are isomorphic!\")\n",
    "        # Draw the graphs\n",
    "        pos = nx.spring_layout(G1)\n",
    "        nx.draw(G1, pos=pos, with_labels=True)\n",
    "        nx.draw(G2, pos=pos, with_labels=True)\n",
    "        plt.show()\n",
    "        break\n",
    "else:\n",
    "    print(\"The graphs are not isomorphic.\")\n",
    "    # Draw the graphs\n",
    "    pos = nx.spring_layout(G1)\n",
    "    nx.draw(G1, pos=pos, with_labels=True)\n",
    "    nx.draw(G2, pos=pos, with_labels=True)\n",
    "    plt.show()\n"
   ]
  },
  {
   "cell_type": "markdown",
   "metadata": {},
   "source": [
    "***\n",
    "# Importance of Graph Isomorphism Problem\n",
    "\n",
    "The importance of graph isomorphism lies in its use in multiple Fields such as chemistry, physics, biology, and computer science.\n",
    "\n",
    "**For example:**\n",
    "\n",
    "* In chemistry, graphs are used to model molecules, and graph isomorphism is used to compare different molecular structures to determine if they are the same or different.\n",
    "  \n",
    "![Alt text](https://tse4.mm.bing.net/th?id=OIP.C0qh3yqS90OFG-tdn4qCwQHaFj&pid=Api&P=0)\n",
    "\n",
    "* In physics, graphs are used to model networks and interactions, and graph isomorphism is used to compare different networks to see if they have similar structures."
   ]
  },
  {
   "cell_type": "markdown",
   "metadata": {},
   "source": [
    "#### Use in Computer science\n",
    "\n",
    "One example of the importance of graph isomorphism in computer science is in the design of integrated circuits. Integrated circuits are made up of millions of transistors that are interconnected to perform specific functions. These connections can be represented as a graph, where the transistors are represented as nodes and the connections between them as edges.\n",
    "\n",
    "![Alt text](https://tse3.mm.bing.net/th?id=OIP.RZJ68z1FJgexrpSiZW-NRwAAAA&pid=Api&P=0)\n",
    "\n",
    "During the design phase of an integrated circuit, it is important to ensure that the circuit functions correctly. One way to do this is by simulating the circuit using computer software. However, simulating a large integrated circuit can be computationally expensive, and it may not be possible to simulate the entire circuit at once.\n",
    "\n",
    "To overcome this challenge, the circuit can be divided into smaller subcircuits, and each subcircuit can be simulated independently. However, to simulate a subcircuit, it is necessary to know its structure, and this can be done by comparing the subcircuit with a library of pre-designed subcircuits.\n",
    "\n",
    "In summary, Graph isomorphism is used to compare the subcircuit with the pre-designed subcircuits to find a match. If a match is found, the pre-designed subcircuit can be used to simulate the subcircuit, thereby reducing the computational cost.\n"
   ]
  },
  {
   "cell_type": "code",
   "execution_count": 6,
   "metadata": {},
   "outputs": [
    {
     "name": "stdout",
     "output_type": "stream",
     "text": [
      "Match found!\n",
      "The circuit matches its specification.\n",
      "The layouts are not equal.\n"
     ]
    }
   ],
   "source": [
    "import networkx as nx\n",
    "import numpy as np\n",
    "\n",
    "# create the graph representing the circuit\n",
    "\n",
    "circuit = nx.Graph()\n",
    "circuit.add_edges_from([(1,2), (2,3), (3,1), (3,4), (4,5), (5,3)])\n",
    "\n",
    "# create a subgraph representing a subcircuit\n",
    "\n",
    "subcircuit = nx.Graph()\n",
    "subcircuit.add_edges_from([(3,4), (4,5), (5,3)])\n",
    "\n",
    "# load the library of pre-designed subcircuits\n",
    "\n",
    "library = [nx.Graph([(4,5), (5,6), (6,4)]), nx.Graph([(1,2), (2,3), (3,4), (4,5)])]\n",
    "\n",
    "# compare the subcircuit with the pre-designed subcircuits\n",
    "\n",
    "for design in library:\n",
    "    if nx.is_isomorphic(subcircuit, design):\n",
    "        print(\"Match found!\")\n",
    "        # simulate the subcircuit using the pre-designed subcircuit\n",
    "        \n",
    "        break\n",
    "else:\n",
    "    print(\"No match found.\")\n",
    "\n",
    "# compare the circuit with its specification\n",
    "\n",
    "specification = nx.Graph()\n",
    "specification.add_edges_from([(1,2), (2,3), (3,1), (3,4), (4,5), (5,3)])\n",
    "if nx.is_isomorphic(circuit, specification):\n",
    "    print(\"The circuit matches its specification.\")\n",
    "else:\n",
    "    print(\"The circuit does not match its specification.\")\n",
    "\n",
    "# optimize the layout of the circuit\n",
    "\n",
    "layout1 = nx.spring_layout(circuit)\n",
    "layout2 = nx.circular_layout(circuit)\n",
    "if np.array_equal(layout1, layout2):\n",
    "    print(\"The layouts are equal.\")\n",
    "else:\n",
    "    print(\"The layouts are not equal.\")"
   ]
  },
  {
   "cell_type": "markdown",
   "metadata": {},
   "source": [
    "***you do not need the layouts to be isomorphic for comparing the subcircuit with the pre-designed subcircuits to find a match***\n",
    "\n",
    "Graph isomorphism only considers the structural properties of the graph, not its layout. The purpose of optimizing the layout is to make the circuit easier to understand and debug, and to reduce the chances of errors during the manufacturing process."
   ]
  },
  {
   "cell_type": "markdown",
   "metadata": {},
   "source": [
    "***\n",
    "#  subgraph isomorphism\n",
    "\n",
    "A subgraph is a graph fully contained in another graph.\n",
    "We sayG′ = (N′ , E ′ ) is a subgraph of G = (N, E) when N′ is a subset of  and E′ only contains edges containing elements of N′  <a href=\"https://github.com/ianmcloughlin/graphs-groups-and-isomorphisms/raw/main/graphs-groups-and-isomorphisms.pdf\">[10]</a>\n",
    "\n",
    "![Alt text](https://media.geeksforgeeks.org/wp-content/uploads/20200613013913/abc4.jpg)\n",
    "\n",
    "The Subgraph Isomorphism Problem occurs in many ways related to Circuit design, most commonly with identifying \n"
   ]
  },
  {
   "cell_type": "markdown",
   "metadata": {},
   "source": [
    "***\n",
    "# NP-complete \n",
    "\n",
    "Early I mentioned \"NP-complete\"\n",
    "\n",
    "In computer science, there are different levels of difficulty when it comes to solving problems. Some problems are easy and can be solved quickly, while others may take a long time. One way to classify problems is by using the terms P, NP, and NP-complete.\n",
    "\n",
    "NP-intermediate refers to a class of computational problems that are believed to be neither in P (polynomial) nor in NP-complete (nondeterministic polynomial), but somewhere in between. One such problem is the **Graph isomorphism problem**, which is said to be NP-intermediate.\n",
    "\n",
    "The significance of this result is that it suggests that the graph isomorphism problem is harder than the problems in P, but not as hard as the problems in NP-complete. This result has important implications in graph theory, computer science, and mathematics.\n",
    "\n",
    "In the context of graph isomorphism, the NP-intermediate result means that the problem is difficult but not necessarily polynomial. It suggests that there may be algorithms that can solve the graph isomorphism problem for certain graphs, while for other graphs, the problem may remain polynomial.\n",
    "\n",
    "This result also implies that the graph isomorphism problem is not as easy to solve as some other graph problems that are known to be in P, such as finding a minimum spanning tree or a shortest path. However, it is not as hard as some other graph problems that are known to be NP-complete, such as the traveling salesman problem or the vertex cover problem.\n",
    "\n",
    "Overall, the NP-intermediate result for graph isomorphism has important implications for the study of computational complexity, and it provides insight into the difficulty of solving graph isomorphism - Work in progress"
   ]
  },
  {
   "cell_type": "markdown",
   "metadata": {},
   "source": [
    "***\n",
    "# automorphism \n",
    "\n",
    "In our definition of isomorphism, we said the isomorphism was\n",
    "from a graph G1 to a graph G2. Nothing in the definition prevents\n",
    "G1 and G2 from being the same graph. When they are the same\n",
    "graph, we call the isomorphism an automorphism.\n",
    "Automorphisms represent the symmetries of a graph. There is\n",
    "always at least one automorphism for a given graph: the identity.\n",
    "This is the identity map on the node set of the graph. The identity\n",
    "map is the map that maps each input to itself.\n",
    "Figure 7 gives the idea of an automorphism. Here we have two\n",
    "copies of the same graph. The permutation of the nodes is represented by the tuple (c, b, a). The permutation clearly leads to an\n",
    "automorphism  ~ This directly from the notes, just a start <a href=\"https://github.com/ianmcloughlin/graphs-groups-and-isomorphisms/raw/main/graphs-groups-and-isomorphisms.pdf\">[10]</a>\n"
   ]
  },
  {
   "cell_type": "markdown",
   "metadata": {},
   "source": [
    "***\n",
    "\n",
    "# Permutations\n",
    "\n",
    "A permutation refers to a bijection between the nodes of two graphs that preserves the edges between them. More formally, let G1 and G2 be two graphs with node sets V1 and V2 and edge sets E1 and E2, respectively. A permutation p is a bijection p: V1 -> V2 such that for any pair of nodes u and v in V1, (u, v) is an edge in E1 if and only if (p(u), p(v)) is an edge in E2.\n",
    "\n",
    "In other words, a permutation is a way of relabeling the nodes of G1 so that they match the nodes of G2 in such a way that the edges between them are preserved. If such a permutation exists, we say that G1 and G2 are isomorphic.\n",
    "\n",
    "Finding a permutation between two graphs can be hard since there can be many possible permutations to consider. In the worst case, there are n! (N factorial)possible permutations between two graphs with n nodes, which makes the problem of determining whether two graphs are isomorphic NP-hard (least as hard as the hardest problems in the class NP).\n",
    "\n",
    "***"
   ]
  },
  {
   "cell_type": "markdown",
   "metadata": {},
   "source": [
    "# References \n",
    "\n",
    "**Links**\n",
    "\n",
    "https://realpython.com/python-sets/ <a>[1]</a>\n",
    "\n",
    "https://www.codedrome.com/graph-theory-in-python/  <a>[2]</a>\n",
    "\n",
    "https://www.baeldung.com/cs/graph-theory-intro  <a>[3]</a>\n",
    "\n",
    "https://www.gatevidyalay.com/graph-isomorphism/  <a>[4]</a>\n",
    "\n",
    "https://ieeexplore.ieee.org/document/9253076/metrics#metrics - Have to sign into Atu account to access \n",
    "\n",
    "~ J. Obert, S. Turner and J. Hamlet, \"Graph Theory and IC Component Design Analysis,\" 2020 Third International Conference on Artificial Intelligence for Industries (AI4I), Irvine, CA, USA, 2020, pp. 64-65, doi: 10.1109/AI4I49448.2020.00021.\n",
    "\n",
    "https://dl.acm.org/doi/pdf/10.1145/157485.164556 <a>[5]</a>\n",
    "\n",
    "https://en.wikipedia.org/wiki/NP-intermediate  <a>[6]</a>\n",
    "\n",
    "https://en.wikipedia.org/wiki/Graph_isomorphism_problem  <a>[7]</a>\n",
    "\n",
    "https://www.geeksforgeeks.org/proof-that-independent-set-in-graph-theory-is-np-complete/  <a>[8]</a>\n",
    "\n",
    "https://www.geeksforgeeks.org/proof-that-subgraph-isomorphism-problem-is-np-complete/\n",
    "\n",
    "https://www.geeksforgeeks.org/mathematics-graph-isomorphisms-connectivity/\n",
    "\n",
    "https://www.slideshare.net/KornepatiSeshagiriRao/np-complete-problems-in-graph-theory page 7  <a>[9]</a>\n",
    "\n",
    "https://github.com/ianmcloughlin/graphs-groups-and-isomorphisms/raw/main/graphs-groups-and-isomorphisms.pdf  <a>[10]</a>\n",
    "\n",
    "https://www.mathsisfun.com/sets/np-complete.html#:~:text=So%2C%20the%20easy%20problems%20are%20in%20%22P%22%20%28and,NP-Complete%3A%20can%20be%20solved%20in%20P%20olynomial%20time\n",
    "\n",
    "\n",
    "\n"
   ]
  }
 ],
 "metadata": {
  "kernelspec": {
   "display_name": "Python 3 (ipykernel)",
   "language": "python",
   "name": "python3"
  },
  "language_info": {
   "codemirror_mode": {
    "name": "ipython",
    "version": 3
   },
   "file_extension": ".py",
   "mimetype": "text/x-python",
   "name": "python",
   "nbconvert_exporter": "python",
   "pygments_lexer": "ipython3",
   "version": "3.9.13"
  }
 },
 "nbformat": 4,
 "nbformat_minor": 2
}
