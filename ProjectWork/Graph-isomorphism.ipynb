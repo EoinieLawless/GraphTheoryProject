{
 "cells": [
  {
   "cell_type": "markdown",
   "metadata": {},
   "source": [
    "# Graph Theory project\n",
    "\n",
    "**To first get to Graph Isomorphism, we must learn about the basics of Graph Theory**\n",
    "\n",
    "***"
   ]
  },
  {
   "cell_type": "markdown",
   "metadata": {},
   "source": [
    "**Index Page**\n",
    "\n",
    ">[Graph Theory - Basics](#Graph-Theory)\n",
    "\n",
    ">[Structures and operations](#Structures-and-operations)\n",
    "\n",
    ">[Automata](#Automata)\n",
    "\n",
    ">[Travelling Salesman Problem](#Travelling-Salesman-Problem)\n",
    "\n",
    ">[Graph Isomorphism](#Graph-Isomorphism)"
   ]
  },
  {
   "cell_type": "markdown",
   "metadata": {},
   "source": [
    "***\n",
    "# Graph Theory\n",
    "**What is Graph theory?**\n",
    "\n",
    "\n",
    "**Graph theory** is a mathematical concept that deals with the study of **graphs**, which are mathematical structures that model relationships between objects. In computing, graph theory is used to represent and analyze data that can be represented as a graph, such as computer networks, social networks, and transportation networks.\n",
    "\n",
    "In simple terms, a graph is a collection of nodes (also called vertices) connected by edges. The edges represent the relationships between the nodes. Graph theory provides a set of tools and techniques to analyze these relationships and extract useful information from the graph.\n",
    "\n",
    "Computing applications of graph theory include network analysis, optimization, routing, clustering, and data visualization. For example, graph theory can be used to find the shortest path between two nodes in a network, to identify clusters of nodes with similar characteristics, or to visualize complex data structures.\n",
    "\n",
    "![Alt text](https://tse3.mm.bing.net/th?id=OIP.2OaCuEDH4PtdWNCV1zCKrQHaFj&pid=Api&P=0)\n",
    "\n",
    "\n",
    "**Vertices** \n",
    "\n",
    "Vertices are points or objects in a graph that are connected by edges or links to form a network or structure. They represent individual components of the graph, and the edges between them represent relationships or connections. Vertices can have properties, such as labels or weights, that provide additional information about the objects they represent. In simpler terms, vertices are just another word for nodes or points in a graph.\n",
    "\n",
    "**Edges**\n",
    "\n",
    "In graph theory, edges are the lines or connections that link the vertices (or nodes) of a graph. They represent the relationships or connections between the objects or concepts that the vertices represent.\n",
    "Edges are a fundamental concept in graph theory, representing the connections or relationships between the individual components (or vertices) of a graph.\n",
    "\n",
    "Edges can be optional, in a manner that a graph without them, can still be defined.\n",
    "\n",
    "We usually indicate with $ V = \\{v_1, v_2, ... , v_n\\} $ the set of vertices, and with $ E = \\{e_1, e_2, ... e_m\\} $ the set of edges. We can then define a graph G as the structure $ G(V, E) $ which models the relationship between the two sets\n",
    "\n",
    "<img src=\"https://www.baeldung.com/wp-content/uploads/sites/4/2020/07/graphs-set.png\" alt=\"drawing\" width=\"400\"/>\n",
    "\n",
    "***\n"
   ]
  },
  {
   "cell_type": "markdown",
   "metadata": {},
   "source": [
    "# Structures and operations\n",
    "**Sets**\n",
    "\n",
    "A set is a collection of nodes (or vertices) or edges that share a common property or characteristic. Sets are used in graph theory to define subsets of nodes or edges that satisfy certain conditions or constraints.\n",
    "\n",
    "For example, let's say we have a graph that represents a social network, where nodes represent people and edges represent friendships between them. We could define a set of \"mutual friends\" as the subset of nodes that have a common neighbor. This set would include all the nodes that have at least two neighbors that are connected to each other, forming a triangle in the graph.\n",
    "\n",
    "Another example is the concept of an \"independent set\" in graph theory, which is a set of nodes that are not adjacent to each other. In other words, no two nodes in the set are connected by an edge. Finding the largest independent set in a graph is a common problem in graph theory, and it has applications in various fields, such as computer science, genetics, and finance.\n",
    "\n",
    "**Sets** are a fundamental concept in graph theory, and they provide a powerful tool for analyzing and understanding complex networks.\n",
    "\n",
    "**Tuple**\n",
    "\n",
    "A tuple is an ordered sequence of elements, enclosed in parentheses. In the context of graph theory, a tuple usually contains two elements that represent the nodes that are connected by the edge. For example, the tuple (1,2) represents the edge that connects node 1 and node 2 in a graph.\n",
    "\n",
    "Tuples can be used to represent multiple edges between two nodes or to attach weights to edges. For example, the tuple ((1,2),2) represents an edge between nodes 1 and 2 with a weight of 2.\n",
    "\n",
    "In Python, tuples are created by enclosing the elements in parentheses, separated by commas. For example, the tuple (1,2) can be created in Python as (1, 2). Tuples are immutable, which means that their values cannot be changed after they are created. This makes them useful for representing data that should not be modified.\n",
    "\n",
    "***"
   ]
  },
  {
   "cell_type": "markdown",
   "metadata": {},
   "source": [
    "\n",
    "# Automata\n",
    "\n",
    "**Finite automata**\n",
    "\n",
    "**regular languages**\n"
   ]
  },
  {
   "cell_type": "markdown",
   "metadata": {},
   "source": [
    "***\n",
    "# Travelling Salesman Problem\n",
    "\n",
    "In this problem a hypothetical salesman needs to visit a number of cities as efficiently as possible. There are six possible combinations - which should he choose to minimize distance or time?\n",
    "\n",
    "***"
   ]
  },
  {
   "cell_type": "markdown",
   "metadata": {},
   "source": [
    "# Graph Isomorphism\n",
    "\n",
    "**What is Graph Isomorphism?**\n",
    "\n",
    "**The Graph Isomorphism** is a phenomenon of existing the same graph in more than one forms.\n",
    "Such graphs are called as Isomorphic graphs.\n",
    "\n",
    "![Alt text](https://www.gatevidyalay.com/wp-content/uploads/2018/05/Graph-Isomorphism-Example.png)\n",
    "\n",
    "Here,\n",
    "* The same graph exists in multiple forms.\n",
    "* Therefore, they are Isomorphic graphs.\n",
    "\n",
    "# Conditions \n",
    " \n",
    "**For any two graphs to be isomorphic, following 4 conditions must be satisfied-**\n",
    "\n",
    "* Number of vertices in both the graphs must be same.\n",
    "\n",
    "* Number of edges in both the graphs must be same.\n",
    "\n",
    "* Degree sequence of both the graphs must be same.\n",
    "\n",
    "* If a cycle of length k is formed by the vertices { v1 , v2 , ….. , vk } in one graph, then a cycle of same length k must be formed by the vertices { f(v1) , f(v2) , ….. , f(vk) } in the other graph as well.\n",
    "\n",
    "* The above 4 conditions are just the necessary conditions for any two graphs to be isomorphic.\n",
    "\n",
    "**Graph isomorphism problem**\n",
    "\n",
    "```\n",
    "The graph isomorphism problem is the computational problem of determining whether two finite graphs are isomorphic. The problem is not known to be solvable in polynomial time nor to be NP-complete, and therefore may be in the computational complexity class NP-intermediate. \n",
    "```\n",
    "~ Wikipedia\n",
    "\n",
    "[Link to reference page](https://www.gatevidyalay.com/graph-isomorphism/)\n",
    "\n",
    "***"
   ]
  }
 ],
 "metadata": {
  "kernelspec": {
   "display_name": "Python 3 (ipykernel)",
   "language": "python",
   "name": "python3"
  },
  "language_info": {
   "codemirror_mode": {
    "name": "ipython",
    "version": 3
   },
   "file_extension": ".py",
   "mimetype": "text/x-python",
   "name": "python",
   "nbconvert_exporter": "python",
   "pygments_lexer": "ipython3",
   "version": "3.9.13"
  }
 },
 "nbformat": 4,
 "nbformat_minor": 2
}
