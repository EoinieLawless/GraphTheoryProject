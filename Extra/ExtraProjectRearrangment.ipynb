{
 "cells": [
  {
   "cell_type": "markdown",
   "metadata": {},
   "source": [
    "# Structures and operations\n",
    "**Sets**\n",
    "\n",
    "A set is a collection of nodes (or vertices) or edges that share a common property or characteristic. Sets are used in graph theory to define subsets of nodes or edges that satisfy certain conditions or constraints.\n",
    "\n",
    "For example, let's say we have a graph that represents a social network, where nodes represent people and edges represent friendships between them. We could define a set of \"mutual friends\" as the subset of nodes that have a common neighbor. This set would include all the nodes that have at least two neighbors that are connected to each other, forming a triangle in the graph.\n",
    "\n",
    "Another example is the concept of an \"independent set\" in graph theory, which is a set of nodes that are not adjacent to each other. In other words, no two nodes in the set are connected by an edge. Finding the largest independent set in a graph is a common problem in graph theory, and it has applications in various fields, such as computer science, genetics, and finance.\n",
    "\n",
    "**Sets** are a fundamental concept in graph theory, and they provide a powerful tool for analyzing and understanding complex networks.\n",
    "\n",
    "**Tuple**\n",
    "\n",
    "A tuple is an ordered sequence of elements, enclosed in parentheses. In the context of graph theory, a tuple usually contains two elements that represent the nodes that are connected by the edge. For example, the tuple (1,2) represents the edge that connects node 1 and node 2 in a graph.\n",
    "\n",
    "Tuples can be used to represent multiple edges between two nodes or to attach weights to edges. For example, the tuple ((1,2),2) represents an edge between nodes 1 and 2 with a weight of 2.\n",
    "\n",
    "In Python, tuples are created by enclosing the elements in parentheses, separated by commas. For example, the tuple (1,2) can be created in Python as (1, 2). Tuples are immutable, which means that their values cannot be changed after they are created. This makes them useful for representing data that should not be modified.\n",
    "\n",
    "***"
   ]
  }
 ],
 "metadata": {
  "kernelspec": {
   "display_name": "Python 3 (ipykernel)",
   "language": "python",
   "name": "python3"
  },
  "language_info": {
   "codemirror_mode": {
    "name": "ipython",
    "version": 3
   },
   "file_extension": ".py",
   "mimetype": "text/x-python",
   "name": "python",
   "nbconvert_exporter": "python",
   "pygments_lexer": "ipython3",
   "version": "3.9.13"
  }
 },
 "nbformat": 4,
 "nbformat_minor": 2
}
