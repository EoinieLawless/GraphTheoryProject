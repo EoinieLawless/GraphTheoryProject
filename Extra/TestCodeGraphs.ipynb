{
 "cells": [
  {
   "cell_type": "code",
   "execution_count": 1,
   "metadata": {},
   "outputs": [
    {
     "name": "stdout",
     "output_type": "stream",
     "text": [
      "The graphs are isomorphic!\n"
     ]
    }
   ],
   "source": [
    "import networkx as nx\n",
    "import numpy as np\n",
    "import itertools\n",
    "\n",
    "# Define the graphs\n",
    "G1 = nx.Graph([(1,2),(2,3),(3,4),(4,1)])\n",
    "G2 = nx.Graph([(1,4),(1,2),(2,3),(3,4)])\n",
    "\n",
    "# Define the adjacency matrices\n",
    "A1 = nx.to_numpy_array(G1)\n",
    "A2 = nx.to_numpy_array(G2)\n",
    "\n",
    "# Define the permutation function\n",
    "def permute_matrix(A, perm):\n",
    "    return A[np.ix_(perm, perm)]\n",
    "\n",
    "# Check if the two graphs are isomorphic\n",
    "for perm in itertools.permutations(range(len(G1.nodes))):\n",
    "    if np.array_equal(permute_matrix(A1, perm), A2):\n",
    "        print(\"The graphs are isomorphic!\")\n",
    "        break\n",
    "else:\n",
    "    print(\"The graphs are not isomorphic.\")"
   ]
  },
  {
   "cell_type": "code",
   "execution_count": 2,
   "metadata": {},
   "outputs": [
    {
     "name": "stdout",
     "output_type": "stream",
     "text": [
      "The graphs are isomorphic!\n"
     ]
    },
    {
     "data": {
      "image/png": "[encoded data removed]",
      "text/plain": [
       "<Figure size 640x480 with 1 Axes>"
      ]
     },
     "metadata": {},
     "output_type": "display_data"
    }
   ],
   "source": [
    "import networkx as nx\n",
    "import numpy as np\n",
    "import itertools\n",
    "import matplotlib.pyplot as plt\n",
    "\n",
    "# Define the graphs\n",
    "G1 = nx.Graph([(1,2),(2,3),(3,4),(4,1)])\n",
    "G2 = nx.Graph([(1,4),(1,2),(2,3),(3,4)])\n",
    "\n",
    "# Define the adjacency matrices\n",
    "A1 = nx.to_numpy_array(G1)\n",
    "A2 = nx.to_numpy_array(G2)\n",
    "\n",
    "# Define the permutation function\n",
    "def permute_matrix(A, perm):\n",
    "    return A[np.ix_(perm, perm)]\n",
    "\n",
    "# Check if the two graphs are isomorphic\n",
    "for perm in itertools.permutations(range(len(G1.nodes))):\n",
    "    if np.array_equal(permute_matrix(A1, perm), A2):\n",
    "        print(\"The graphs are isomorphic!\")\n",
    "        # Draw the graphs\n",
    "        pos = nx.spring_layout(G1)\n",
    "        nx.draw(G1, pos=pos, with_labels=True)\n",
    "        nx.draw(G2, pos=pos, with_labels=True)\n",
    "        plt.show()\n",
    "        break\n",
    "else:\n",
    "    print(\"The graphs are not isomorphic.\")\n",
    "    "
   ]
  },
  {
   "cell_type": "code",
   "execution_count": 3,
   "metadata": {},
   "outputs": [
    {
     "name": "stdout",
     "output_type": "stream",
     "text": [
      "Match found!\n",
      "The circuit matches its specification.\n",
      "The layouts are not equal.\n"
     ]
    }
   ],
   "source": [
    "import networkx as nx\n",
    "import numpy as np\n",
    "\n",
    "# create the graph representing the circuit\n",
    "circuit = nx.Graph()\n",
    "circuit.add_edges_from([(1,2), (2,3), (3,1), (3,4), (4,5), (5,3)])\n",
    "\n",
    "# create a subgraph representing a subcircuit\n",
    "subcircuit = nx.Graph()\n",
    "subcircuit.add_edges_from([(3,4), (4,5), (5,3)])\n",
    "\n",
    "# load the library of pre-designed subcircuits\n",
    "library = [nx.Graph([(4,5), (5,6), (6,4)]), nx.Graph([(1,2), (2,3), (3,4), (4,5)])]\n",
    "\n",
    "# compare the subcircuit with the pre-designed subcircuits\n",
    "for design in library:\n",
    "    if nx.is_isomorphic(subcircuit, design):\n",
    "        print(\"Match found!\")\n",
    "        # simulate the subcircuit using the pre-designed subcircuit\n",
    "        # ...\n",
    "        break\n",
    "else:\n",
    "    print(\"No match found.\")\n",
    "\n",
    "# compare the circuit with its specification\n",
    "specification = nx.Graph()\n",
    "specification.add_edges_from([(1,2), (2,3), (3,1), (3,4), (4,5), (5,3)])\n",
    "if nx.is_isomorphic(circuit, specification):\n",
    "    print(\"The circuit matches its specification.\")\n",
    "else:\n",
    "    print(\"The circuit does not match its specification.\")\n",
    "\n",
    "# optimize the layout of the circuit\n",
    "layout1 = nx.spring_layout(circuit)\n",
    "layout2 = nx.circular_layout(circuit)\n",
    "if np.array_equal(layout1, layout2):\n",
    "    print(\"The layouts are equal.\")\n",
    "else:\n",
    "    print(\"The layouts are not equal.\")"
   ]
  },
  {
   "cell_type": "markdown",
   "metadata": {},
   "source": [
    "# References \n",
    "\n",
    "**Links**\n",
    "\n",
    "https://realpython.com/python-sets/ <a>[1]</a>\n",
    "\n",
    "https://www.codedrome.com/graph-theory-in-python/  <a>[2]</a>\n",
    "\n",
    "https://www.baeldung.com/cs/graph-theory-intro  <a>[3]</a>\n",
    "\n",
    "https://www.gatevidyalay.com/graph-isomorphism/  <a>[4]</a>\n",
    "\n",
    "https://ieeexplore.ieee.org/document/9253076/metrics#metrics - Have to sign into Atu account to access  <a>[5]</a>\n",
    "\n",
    "~ J. Obert, S. Turner and J. Hamlet, \"Graph Theory and IC Component Design Analysis,\" 2020 Third International Conference on Artificial Intelligence for Industries (AI4I), Irvine, CA, USA, 2020, pp. 64-65, doi: 10.1109/AI4I49448.2020.00021.\n",
    "\n",
    "https://dl.acm.org/doi/pdf/10.1145/157485.164556 <a>[6]</a>\n",
    "\n",
    "https://en.wikipedia.org/wiki/NP-intermediate  <a>[7]</a>\n",
    "\n",
    "https://en.wikipedia.org/wiki/Graph_isomorphism_problem  <a>[8]</a>\n",
    "\n",
    "https://www.geeksforgeeks.org/proof-that-independent-set-in-graph-theory-is-np-complete/  <a>[9]</a>\n",
    "\n",
    "https://www.geeksforgeeks.org/proof-that-subgraph-isomorphism-problem-is-np-complete/ <a>[10]</a>\n",
    "\n",
    "https://www.geeksforgeeks.org/mathematics-graph-isomorphisms-connectivity/ <a>[11]</a>\n",
    "\n",
    "https://www.slideshare.net/KornepatiSeshagiriRao/np-complete-problems-in-graph-theory page 7  <a>[12]</a>\n",
    "\n",
    "https://github.com/ianmcloughlin/graphs-groups-and-isomorphisms/raw/main/graphs-groups-and-isomorphisms.pdf  <a>[13]</a>\n",
    "\n",
    "https://www.mathsisfun.com/sets/np-complete.html#:~:text=So%2C%20the%20easy%20problems%20are%20in%20%22P%22%20%28and,NP-Complete%3A%20can%20be%20solved%20in%20P%20olynomial%20time <a>[14]</a>\n",
    "\n",
    "https://mathworld.wolfram.com/GraphAutomorphism.html#:~:text=An%20automorphism%20of%20a%20graph%20is%20a%20graph,permutation%20group%20known%20as%20the%20graph%27s%20automorphism%20group. <a>[15]</a>\n",
    "\n",
    "https://en.wikipedia.org/wiki/Induced_subgraph_isomorphism_problem<a>[16]</a>\n",
    "\n",
    "https://math.libretexts.org/Bookshelves/Combinatorics_and_Discrete_Mathematics/Combinatorics_(Morris)/03%3A_Graph_Theory/11%3A_Basics_of_Graph_Theory/11.04%3A_Graph_Isomorphisms#:~:text=Two%20graphs%20G1%20%3D%20%28V1%2C%20E1%29%20and%20G2,%CF%86%20an%20isomorphism%20from%20G1%20to%20G2.%20Notation <a>[17]</a>\n",
    "\n",
    "https://en.wikipedia.org/wiki/Adjacency_matrix#:~:text=In%20graph%20theory%20and%20computer%20science%2C%20an%20adjacency,is%20a%20%280%2C1%29-matrix%20with%20zeros%20on%20its%20diagonal. <a>[18]</a>\n",
    "\n",
    "https://mathworld.wolfram.com/AdjacencyMatrix.html <a>[19]</a>\n",
    "\n",
    "<a href=\"https://github.com/ianmcloughlin/graphs-groups-and-isomorphisms/raw/main/graphs-groups-and-isomorphisms.pdf\">[13]</a>"
   ]
  }
 ],
 "metadata": {
  "kernelspec": {
   "display_name": "Python 3 (ipykernel)",
   "language": "python",
   "name": "python3"
  },
  "language_info": {
   "codemirror_mode": {
    "name": "ipython",
    "version": 3
   },
   "file_extension": ".py",
   "mimetype": "text/x-python",
   "name": "python",
   "nbconvert_exporter": "python",
   "pygments_lexer": "ipython3",
   "version": "3.9.13"
  }
 },
 "nbformat": 4,
 "nbformat_minor": 2
}
