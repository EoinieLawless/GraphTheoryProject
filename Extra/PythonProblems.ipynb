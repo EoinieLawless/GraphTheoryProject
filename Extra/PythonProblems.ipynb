{
 "cells": [
  {
   "cell_type": "markdown",
   "metadata": {},
   "source": [
    "# Python Problems \n",
    "\n",
    "### Question 1 "
   ]
  },
  {
   "cell_type": "code",
   "execution_count": 12,
   "metadata": {},
   "outputs": [
    {
     "name": "stdout",
     "output_type": "stream",
     "text": [
      "143\n",
      "615\n"
     ]
    }
   ],
   "source": [
    "def sumultiply(x, y):\n",
    "    result = 0\n",
    "    while y != 0:\n",
    "        if y & 1:\n",
    "            result = result + x\n",
    "        x = x << 1\n",
    "        y = y >> 1\n",
    "    return result\n",
    "\n",
    "\n",
    "print(sumultiply(11, 13))\n",
    "print(sumultiply(5, 123))\n"
   ]
  },
  {
   "cell_type": "markdown",
   "metadata": {},
   "source": [
    "### Question 2"
   ]
  },
  {
   "cell_type": "code",
   "execution_count": 13,
   "metadata": {},
   "outputs": [
    {
     "name": "stdout",
     "output_type": "stream",
     "text": [
      "True\n",
      "False\n"
     ]
    }
   ],
   "source": [
    "def ispalindrome(s):\n",
    "    s = s.lower()  # convert to lowercase for case-insensitivity\n",
    "    left = 0\n",
    "    right = len(s) - 1\n",
    "    while left < right:\n",
    "        if s[left] != s[right]:\n",
    "            return False\n",
    "        left += 1\n",
    "        right -= 1\n",
    "    return True\n",
    "\n",
    "\n",
    "print(ispalindrome(\"radar\"))  \n",
    "print(ispalindrome(\"radars\"))  \n"
   ]
  },
  {
   "cell_type": "markdown",
   "metadata": {},
   "source": [
    "### Question 3 "
   ]
  },
  {
   "cell_type": "code",
   "execution_count": 14,
   "metadata": {},
   "outputs": [
    {
     "name": "stdout",
     "output_type": "stream",
     "text": [
      "1150.0\n",
      "1700.0\n"
     ]
    }
   ],
   "source": [
    "def simpleinterest(loan, interest_rate, period):\n",
    "    interest = loan * interest_rate / 100 * period\n",
    "    total_amount = loan + interest\n",
    "    return total_amount\n",
    "\n",
    "\n",
    "print(simpleinterest(1000, 3, 5))  \n",
    "print(simpleinterest(1000, 7, 10))  \n"
   ]
  },
  {
   "cell_type": "markdown",
   "metadata": {},
   "source": [
    "### Question 4"
   ]
  },
  {
   "cell_type": "code",
   "execution_count": 15,
   "metadata": {},
   "outputs": [
    {
     "name": "stdout",
     "output_type": "stream",
     "text": [
      "1161.6167815552706\n",
      "2009.6613766956327\n"
     ]
    }
   ],
   "source": [
    "def compoundinterest(loan, interest_rate, period):\n",
    "    # convert annual interest rate to monthly interest rate\n",
    "    r = interest_rate / 100 / 12\n",
    "    # calculate total amount with compound interest\n",
    "    total_amount = loan * (1 + r) ** (period * 12)\n",
    "    return total_amount\n",
    "\n",
    "\n",
    "print(compoundinterest(1000, 3, 5)) \n",
    "print(compoundinterest(1000, 7, 10))\n"
   ]
  },
  {
   "cell_type": "markdown",
   "metadata": {},
   "source": [
    "### Question 5"
   ]
  },
  {
   "cell_type": "code",
   "execution_count": 16,
   "metadata": {},
   "outputs": [
    {
     "name": "stdout",
     "output_type": "stream",
     "text": [
      "10.0\n",
      "12.0\n"
     ]
    }
   ],
   "source": [
    "\n",
    "def newtonsroot(x):\n",
    "    # make an initial guess at the square root\n",
    "    r = x / 2\n",
    "    # repeatedly improve the guess using Newton's method\n",
    "    while abs(r ** 2 - x) > 1e-12:\n",
    "        r = (r + x / r) / 2\n",
    "    # return the square root correct to six decimal places\n",
    "    return round(r, 6)\n",
    "\n",
    "\n",
    "print(newtonsroot(100))  # Output: 10.0\n",
    "print(newtonsroot(144))  # Output: 12.0\n"
   ]
  },
  {
   "cell_type": "markdown",
   "metadata": {},
   "source": [
    "### Question 6"
   ]
  },
  {
   "cell_type": "code",
   "execution_count": null,
   "metadata": {},
   "outputs": [],
   "source": []
  },
  {
   "cell_type": "markdown",
   "metadata": {},
   "source": [
    "### Question 7"
   ]
  },
  {
   "cell_type": "code",
   "execution_count": null,
   "metadata": {},
   "outputs": [],
   "source": []
  },
  {
   "cell_type": "markdown",
   "metadata": {},
   "source": [
    "### Question 8"
   ]
  },
  {
   "cell_type": "code",
   "execution_count": null,
   "metadata": {},
   "outputs": [],
   "source": []
  },
  {
   "cell_type": "markdown",
   "metadata": {},
   "source": [
    "### Question 9"
   ]
  },
  {
   "cell_type": "code",
   "execution_count": null,
   "metadata": {},
   "outputs": [],
   "source": []
  },
  {
   "cell_type": "markdown",
   "metadata": {},
   "source": [
    "### Question 10"
   ]
  },
  {
   "cell_type": "code",
   "execution_count": null,
   "metadata": {},
   "outputs": [],
   "source": []
  }
 ],
 "metadata": {
  "kernelspec": {
   "display_name": "Python 3 (ipykernel)",
   "language": "python",
   "name": "python3"
  },
  "language_info": {
   "codemirror_mode": {
    "name": "ipython",
    "version": 3
   },
   "file_extension": ".py",
   "mimetype": "text/x-python",
   "name": "python",
   "nbconvert_exporter": "python",
   "pygments_lexer": "ipython3",
   "version": "3.9.13"
  }
 },
 "nbformat": 4,
 "nbformat_minor": 2
}
